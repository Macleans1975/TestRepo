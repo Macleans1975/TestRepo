{
 "cells": [
  {
   "cell_type": "markdown",
   "id": "c71b59d9-98e5-44b0-9e16-7301f8d9800d",
   "metadata": {},
   "source": [
    "# Data Science Tools and Ecosystem"
   ]
  },
  {
   "cell_type": "markdown",
   "id": "ef6fba44-54cd-44ad-9e39-a4fa7d81c8c0",
   "metadata": {},
   "source": [
    "This notebook summarizes Data Science Tools and Ecosystem"
   ]
  },
  {
   "cell_type": "markdown",
   "id": "69d09392-7075-4aa7-b7ca-b4bd4702b47f",
   "metadata": {},
   "source": [
    "**Objectives:**\n",
    "- List popular languages used by Data Scientists\n",
    "- List Data Science Tools\n",
    "- List libraries commonly used by Data Scientists\n",
    "- Create code cells for simple arithmetic expressions\n",
    "- Create code cells for unit conversions"
   ]
  },
  {
   "cell_type": "markdown",
   "id": "ca82cae4-5540-4519-822c-ffcc910eb0ec",
   "metadata": {},
   "source": [
    "## List of some popular languages used by Data Scientists\n",
    "1. Python\n",
    "2. R\n",
    "3. SQL\n",
    "4. Java\n",
    "5. Julia"
   ]
  },
  {
   "cell_type": "markdown",
   "id": "07017ee4-5acc-454f-916f-9ee7d3a5c9fb",
   "metadata": {},
   "source": [
    "## List of some Libraries commonly used by Data Scientists\n",
    "1. Pandas\n",
    "2. Numpy\n",
    "3. Matplotlib\n",
    "4. Scikit-learn\n",
    "5. TensorFlow"
   ]
  },
  {
   "cell_type": "markdown",
   "id": "0565bb79-088a-4b61-bff0-da7e541e30b7",
   "metadata": {},
   "source": [
    "|Data Science Tools|\n",
    "|------------------|\n",
    "|Jupyter Notebooks|\n",
    "|RStudio|\n",
    "|VS Code|"
   ]
  },
  {
   "cell_type": "markdown",
   "id": "8a5745fc-65bd-44fb-8735-e99566307ee9",
   "metadata": {},
   "source": [
    "### Below are examples of evaluating arithmetic expressions in Python"
   ]
  },
  {
   "cell_type": "code",
   "execution_count": 2,
   "id": "7ecce5aa-239a-4439-a0b8-298bd1485c2f",
   "metadata": {},
   "outputs": [
    {
     "data": {
      "text/plain": [
       "17"
      ]
     },
     "execution_count": 2,
     "metadata": {},
     "output_type": "execute_result"
    }
   ],
   "source": [
    "# This is a simple arithmetic expression to multiply then add integers\n",
    "(3*4)+5"
   ]
  },
  {
   "cell_type": "code",
   "execution_count": 5,
   "id": "4f181398-80c0-4a2e-8b86-ce7bdf06a563",
   "metadata": {},
   "outputs": [
    {
     "data": {
      "text/plain": [
       "3.3333333333333335"
      ]
     },
     "execution_count": 5,
     "metadata": {},
     "output_type": "execute_result"
    }
   ],
   "source": [
    "# This will convert 200 minutes to hours by dividing by 60\n",
    "(200/60)"
   ]
  },
  {
   "cell_type": "markdown",
   "id": "8337674f-7e19-4fe3-9e43-63cbfb5e875f",
   "metadata": {},
   "source": [
    "## Author\n",
    "Macleans Chimwenye"
   ]
  }
 ],
 "metadata": {
  "kernelspec": {
   "display_name": "Python 3 (ipykernel)",
   "language": "python",
   "name": "python3"
  },
  "language_info": {
   "codemirror_mode": {
    "name": "ipython",
    "version": 3
   },
   "file_extension": ".py",
   "mimetype": "text/x-python",
   "name": "python",
   "nbconvert_exporter": "python",
   "pygments_lexer": "ipython3",
   "version": "3.12.8"
  }
 },
 "nbformat": 4,
 "nbformat_minor": 5
}
